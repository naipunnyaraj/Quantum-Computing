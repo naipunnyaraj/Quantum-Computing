{
 "cells": [
  {
   "cell_type": "code",
   "execution_count": 10,
   "id": "bbe20852-ba12-4c14-89af-b1f589b555fa",
   "metadata": {},
   "outputs": [
    {
     "name": "stderr",
     "output_type": "stream",
     "text": [
      "ibmqfactory.load_account:WARNING:2022-11-04 13:38:02,120: Credentials are already in use. The existing account in the session will be replaced.\n"
     ]
    }
   ],
   "source": [
    "import numpy as np\n",
    "\n",
    "# Importing standard Qiskit libraries\n",
    "from qiskit import *\n",
    "from qiskit.tools.jupyter import *\n",
    "from qiskit.visualization import *\n",
    "from ibm_quantum_widgets import *\n",
    "from qiskit.providers.aer import QasmSimulator\n",
    "\n",
    "# Loading your IBM Quantum account(s)\n",
    "provider = IBMQ.load_account()"
   ]
  },
  {
   "cell_type": "code",
   "execution_count": 11,
   "id": "7d5dd229-9346-4356-8696-d7b5b2534f7e",
   "metadata": {},
   "outputs": [],
   "source": [
    "%matplotlib inline"
   ]
  },
  {
   "cell_type": "code",
   "execution_count": 25,
   "id": "3a2fc4eb-ab27-4210-bec7-84b2db7f2524",
   "metadata": {},
   "outputs": [
    {
     "data": {
      "image/png": "[encoded data removed]",
      "text/plain": [
       "<Figure size 774.759x204.68 with 1 Axes>"
      ]
     },
     "metadata": {},
     "output_type": "display_data"
    }
   ],
   "source": [
    "qr = QuantumRegister(2)\n",
    "cr = ClassicalRegister(2)\n",
    "qc = QuantumCircuit(qr,cr)\n",
    "qc.h(qr[0])\n",
    "qc.cx(qr[0],qr[1])\n",
    "qc.barrier()\n",
    "message = \"11\"\n",
    "\n",
    "\n",
    "if message[0] == \"1\":\n",
    "    qc.z(qr[0])\n",
    "if message[1] == \"1\":\n",
    "    qc.x(qr[0])\n",
    "qc.barrier()\n",
    "qc.cx(qr[0],qr[1])\n",
    "qc.h(qr[0])\n",
    "qc.swap(qr[0],qr[1])\n",
    "qc.measure(qr,cr)\n",
    "display(qc.draw('mpl'))"
   ]
  },
  {
   "cell_type": "code",
   "execution_count": 26,
   "id": "35c7f9d0-4247-4326-a17b-c5ee5d8688fd",
   "metadata": {},
   "outputs": [
    {
     "name": "stdout",
     "output_type": "stream",
     "text": [
      "{'11': 1024}\n"
     ]
    },
    {
     "data": {
      "image/png": "[encoded data removed]",
      "text/plain": [
       "<Figure size 504x360 with 1 Axes>"
      ]
     },
     "execution_count": 26,
     "metadata": {},
     "output_type": "execute_result"
    }
   ],
   "source": [
    "aer_sim = Aer.get_backend('aer_simulator')\n",
    "qobj = assemble(qc)\n",
    "result = aer_sim.run(qobj).result()\n",
    "counts = result.get_counts(qc)\n",
    "print(counts)\n",
    "plot_histogram(counts)"
   ]
  },
  {
   "cell_type": "code",
   "execution_count": null,
   "id": "d2e050ac-a6b1-4cb0-80ec-5db650751105",
   "metadata": {},
   "outputs": [],
   "source": []
  }
 ],
 "metadata": {
  "kernelspec": {
   "display_name": "Python 3 (ipykernel)",
   "language": "python",
   "name": "python3"
  },
  "language_info": {
   "codemirror_mode": {
    "name": "ipython",
    "version": 3
   },
   "file_extension": ".py",
   "mimetype": "text/x-python",
   "name": "python",
   "nbconvert_exporter": "python",
   "pygments_lexer": "ipython3",
   "version": "3.8.13"
  },
  "widgets": {
   "application/vnd.jupyter.widget-state+json": {
    "state": {
     "067074abf9ac4517a260d96f071781b0": {
      "model_module": "@jupyter-widgets/base",
      "model_module_version": "1.2.0",
      "model_name": "LayoutModel",
      "state": {
       "width": "190px"
      }
     },
     "1633cec8472e4e71a458392faf667033": {
      "model_module": "@jupyter-widgets/base",
      "model_module_version": "1.2.0",
      "model_name": "LayoutModel",
      "state": {
       "margin": "0px 0px 10px 0px"
      }
     },
     "19088770db7347179311db738eafdc68": {
      "model_module": "@jupyter-widgets/controls",
      "model_module_version": "1.5.0",
      "model_name": "GridBoxModel",
      "state": {
       "children": [
        "IPY_MODEL_5a908a351fe744b1aedffe98609cd1a8"
       ],
       "layout": "IPY_MODEL_7e2dd3c8594c45bfa3beb5130b3e5c17"
      }
     },
     "4b474e586fdf4f46ae7d54702e60b5a9": {
      "model_module": "@jupyter-widgets/controls",
      "model_module_version": "1.5.0",
      "model_name": "DescriptionStyleModel",
      "state": {
       "description_width": ""
      }
     },
     "56a6171b4dfe4ce3b28ff4592201d087": {
      "model_module": "@jupyter-widgets/base",
      "model_module_version": "1.2.0",
      "model_name": "LayoutModel",
      "state": {
       "width": "95px"
      }
     },
     "5a908a351fe744b1aedffe98609cd1a8": {
      "model_module": "@jupyter-widgets/controls",
      "model_module_version": "1.5.0",
      "model_name": "ButtonModel",
      "state": {
       "button_style": "primary",
       "description": "Clear",
       "layout": "IPY_MODEL_c88f85e47e7340dc8b6d7eb750e47a2e",
       "style": "IPY_MODEL_ed62f2c8d55c4a6a8fc5fdc5b688aae4"
      }
     },
     "7081f23a774643c98a0e7f7a2e3bf52a": {
      "model_module": "@jupyter-widgets/controls",
      "model_module_version": "1.5.0",
      "model_name": "DescriptionStyleModel",
      "state": {
       "description_width": ""
      }
     },
     "72aa1c71e18a48c4b375c215f1656344": {
      "model_module": "@jupyter-widgets/controls",
      "model_module_version": "1.5.0",
      "model_name": "DescriptionStyleModel",
      "state": {
       "description_width": ""
      }
     },
     "7e2dd3c8594c45bfa3beb5130b3e5c17": {
      "model_module": "@jupyter-widgets/base",
      "model_module_version": "1.2.0",
      "model_name": "LayoutModel",
      "state": {
       "grid_template_areas": "\n                                       \". . . . right \"\n                                        ",
       "grid_template_columns": "20% 20% 20% 20% 20%",
       "width": "100%"
      }
     },
     "86a3c179c8724c978f45fac60181b748": {
      "model_module": "@jupyter-widgets/controls",
      "model_module_version": "1.5.0",
      "model_name": "HTMLModel",
      "state": {
       "layout": "IPY_MODEL_1633cec8472e4e71a458392faf667033",
       "style": "IPY_MODEL_b729914632ea4b6fba61fbdfafa0173f",
       "value": "<p style='font-family: IBM Plex Sans, Arial, Helvetica, sans-serif; font-size: 20px; font-weight: medium;'>Circuit Properties</p>"
      }
     },
     "8d31c18c7db64305b9401b28e88e2a58": {
      "model_module": "@jupyter-widgets/controls",
      "model_module_version": "1.5.0",
      "model_name": "DescriptionStyleModel",
      "state": {
       "description_width": ""
      }
     },
     "a57c442b6a534f188512652b952c58f2": {
      "model_module": "@jupyter-widgets/controls",
      "model_module_version": "1.5.0",
      "model_name": "HTMLModel",
      "state": {
       "layout": "IPY_MODEL_56a6171b4dfe4ce3b28ff4592201d087",
       "style": "IPY_MODEL_c1c46c747d04458c91c472658a41056c",
       "value": "<h5>Status</h5>"
      }
     },
     "a6a39a51c7ec47e48d8d542e86fafb4d": {
      "model_module": "@jupyter-widgets/controls",
      "model_module_version": "1.5.0",
      "model_name": "HTMLModel",
      "state": {
       "layout": "IPY_MODEL_fd41d43b69314094be9ffa53371f88b3",
       "style": "IPY_MODEL_72aa1c71e18a48c4b375c215f1656344",
       "value": "<h5>Queue</h5>"
      }
     },
     "a7470f10f2ae4900a39b84c544d2081f": {
      "model_module": "@jupyter-widgets/controls",
      "model_module_version": "1.5.0",
      "model_name": "HTMLModel",
      "state": {
       "layout": "IPY_MODEL_067074abf9ac4517a260d96f071781b0",
       "style": "IPY_MODEL_4b474e586fdf4f46ae7d54702e60b5a9",
       "value": "<h5>Job ID</h5>"
      }
     },
     "abb12b2dfc2e4ce58f2590c0bc649876": {
      "model_module": "@jupyter-widgets/controls",
      "model_module_version": "1.5.0",
      "model_name": "HTMLModel",
      "state": {
       "layout": "IPY_MODEL_d91b03b1fa8e4581b12c4370dfe84630",
       "style": "IPY_MODEL_7081f23a774643c98a0e7f7a2e3bf52a",
       "value": "<h5>Backend</h5>"
      }
     },
     "b729914632ea4b6fba61fbdfafa0173f": {
      "model_module": "@jupyter-widgets/controls",
      "model_module_version": "1.5.0",
      "model_name": "DescriptionStyleModel",
      "state": {
       "description_width": ""
      }
     },
     "c1c46c747d04458c91c472658a41056c": {
      "model_module": "@jupyter-widgets/controls",
      "model_module_version": "1.5.0",
      "model_name": "DescriptionStyleModel",
      "state": {
       "description_width": ""
      }
     },
     "c7c27b59dd294e5e9f932fef38da4446": {
      "model_module": "@jupyter-widgets/base",
      "model_module_version": "1.2.0",
      "model_name": "LayoutModel",
      "state": {
       "margin": "0px 0px 0px 37px",
       "width": "600px"
      }
     },
     "c88f85e47e7340dc8b6d7eb750e47a2e": {
      "model_module": "@jupyter-widgets/base",
      "model_module_version": "1.2.0",
      "model_name": "LayoutModel",
      "state": {
       "grid_area": "right",
       "padding": "0px 0px 0px 0px",
       "width": "70px"
      }
     },
     "cb742afae10a45dc8449758ee95ec4f8": {
      "model_module": "@jupyter-widgets/controls",
      "model_module_version": "1.5.0",
      "model_name": "HBoxModel",
      "state": {
       "children": [
        "IPY_MODEL_a7470f10f2ae4900a39b84c544d2081f",
        "IPY_MODEL_abb12b2dfc2e4ce58f2590c0bc649876",
        "IPY_MODEL_a57c442b6a534f188512652b952c58f2",
        "IPY_MODEL_a6a39a51c7ec47e48d8d542e86fafb4d",
        "IPY_MODEL_d87914933daa4e95876dc974e6ff99ee"
       ],
       "layout": "IPY_MODEL_c7c27b59dd294e5e9f932fef38da4446"
      }
     },
     "d87914933daa4e95876dc974e6ff99ee": {
      "model_module": "@jupyter-widgets/controls",
      "model_module_version": "1.5.0",
      "model_name": "HTMLModel",
      "state": {
       "layout": "IPY_MODEL_f3cf6d7d496f4e5ea7f53887fc9868c8",
       "style": "IPY_MODEL_8d31c18c7db64305b9401b28e88e2a58",
       "value": "<h5>Message</h5>"
      }
     },
     "d91b03b1fa8e4581b12c4370dfe84630": {
      "model_module": "@jupyter-widgets/base",
      "model_module_version": "1.2.0",
      "model_name": "LayoutModel",
      "state": {
       "width": "145px"
      }
     },
     "ed62f2c8d55c4a6a8fc5fdc5b688aae4": {
      "model_module": "@jupyter-widgets/controls",
      "model_module_version": "1.5.0",
      "model_name": "ButtonStyleModel",
      "state": {}
     },
     "f3cf6d7d496f4e5ea7f53887fc9868c8": {
      "model_module": "@jupyter-widgets/base",
      "model_module_version": "1.2.0",
      "model_name": "LayoutModel",
      "state": {}
     },
     "fd41d43b69314094be9ffa53371f88b3": {
      "model_module": "@jupyter-widgets/base",
      "model_module_version": "1.2.0",
      "model_name": "LayoutModel",
      "state": {
       "width": "70px"
      }
     }
    },
    "version_major": 2,
    "version_minor": 0
   }
  }
 },
 "nbformat": 4,
 "nbformat_minor": 5
}
