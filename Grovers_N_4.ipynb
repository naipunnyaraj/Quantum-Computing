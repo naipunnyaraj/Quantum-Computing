{
 "cells": [
  {
   "cell_type": "code",
   "execution_count": 18,
   "id": "39427ce7-0f7a-4466-8835-359b26f7369a",
   "metadata": {},
   "outputs": [
    {
     "name": "stderr",
     "output_type": "stream",
     "text": [
      "ibmqfactory.load_account:WARNING:2022-11-04 10:28:00,307: Credentials are already in use. The existing account in the session will be replaced.\n"
     ]
    }
   ],
   "source": [
    "import numpy as np\n",
    "\n",
    "# Importing standard Qiskit libraries\n",
    "from qiskit import QuantumCircuit, transpile, Aer, IBMQ,assemble,execute\n",
    "from qiskit.tools.jupyter import *\n",
    "from qiskit.visualization import *\n",
    "from ibm_quantum_widgets import *\n",
    "from qiskit.providers.aer import QasmSimulator\n",
    "\n",
    "# Loading your IBM Quantum account(s)\n",
    "provider = IBMQ.load_account()"
   ]
  },
  {
   "cell_type": "code",
   "execution_count": 19,
   "id": "921d906d-c7df-496d-af7f-e9728d2d12bd",
   "metadata": {},
   "outputs": [],
   "source": [
    "%matplotlib inline"
   ]
  },
  {
   "cell_type": "code",
   "execution_count": 20,
   "id": "e2a23d9b-c2c8-4718-9605-c91af3dffe7e",
   "metadata": {},
   "outputs": [
    {
     "data": {
      "image/png": "[encoded data removed]",
      "text/plain": [
       "<Figure size 447.652x144.48 with 1 Axes>"
      ]
     },
     "metadata": {},
     "output_type": "display_data"
    }
   ],
   "source": [
    "n = 2\n",
    "qc = QuantumCircuit(2)\n",
    "qc.h(0)\n",
    "qc.h(1)\n",
    "qc.cz(0,1)\n",
    "qc.h(0)\n",
    "qc.h(1)\n",
    "qc.z(0)\n",
    "qc.z(1)\n",
    "qc.cz(0,1)\n",
    "qc.h(0)\n",
    "qc.h(1)\n",
    "display(qc.draw('mpl'))"
   ]
  },
  {
   "cell_type": "code",
   "execution_count": 21,
   "id": "a6769aa9-ff86-4327-b94a-f0c4dabf047f",
   "metadata": {},
   "outputs": [
    {
     "data": {
      "image/png": "[encoded data removed]",
      "text/plain": [
       "<Figure size 504x360 with 1 Axes>"
      ]
     },
     "execution_count": 21,
     "metadata": {},
     "output_type": "execute_result"
    }
   ],
   "source": [
    "qc.measure_all()\n",
    "\n",
    "aer_sim = Aer.get_backend('aer_simulator')\n",
    "qobj = assemble(qc)\n",
    "result = aer_sim.run(qobj).result()\n",
    "counts = result.get_counts()\n",
    "plot_histogram(counts)"
   ]
  },
  {
   "cell_type": "code",
   "execution_count": 22,
   "id": "76a42878-4e14-4ffa-8157-0f75724be1dd",
   "metadata": {},
   "outputs": [
    {
     "name": "stdout",
     "output_type": "stream",
     "text": [
      "Job Status: job has successfully run\n"
     ]
    }
   ],
   "source": [
    "\n",
    "provider = IBMQ.get_provider(hub='ibm-q')\n",
    "from qiskit.tools.monitor import job_monitor\n",
    "qcomp = provider.get_backend('ibmq_belem')\n",
    "job = execute(qc,backend = qcomp)\n",
    "job_monitor(job)\n"
   ]
  },
  {
   "cell_type": "code",
   "execution_count": null,
   "id": "875bed1e-6468-40b7-94d9-024035454556",
   "metadata": {},
   "outputs": [],
   "source": [
    "result = job.result()\n",
    "plot_histogram(result.get_counts())"
   ]
  }
 ],
 "metadata": {
  "kernelspec": {
   "display_name": "Python 3 (ipykernel)",
   "language": "python",
   "name": "python3"
  },
  "language_info": {
   "codemirror_mode": {
    "name": "ipython",
    "version": 3
   },
   "file_extension": ".py",
   "mimetype": "text/x-python",
   "name": "python",
   "nbconvert_exporter": "python",
   "pygments_lexer": "ipython3",
   "version": "3.8.13"
  },
  "widgets": {
   "application/vnd.jupyter.widget-state+json": {
    "state": {
     "078ddbefa5c845d588ffea98fc6e8e70": {
      "model_module": "@jupyter-widgets/controls",
      "model_module_version": "1.5.0",
      "model_name": "HTMLModel",
      "state": {
       "layout": "IPY_MODEL_ec11e67248c34d44bcfd16dec5aa7815",
       "style": "IPY_MODEL_d7b1ee7d82f642d694d757a1ed594fc7",
       "value": "<p style='font-family: IBM Plex Sans, Arial, Helvetica, sans-serif; font-size: 20px; font-weight: medium;'>Circuit Properties</p>"
      }
     },
     "07b1ba411b4c4429b8f4ae3d8936b445": {
      "model_module": "@jupyter-widgets/controls",
      "model_module_version": "1.5.0",
      "model_name": "GridBoxModel",
      "state": {
       "children": [
        "IPY_MODEL_1d5d37d5cd104c7993f19fc56640fe72"
       ],
       "layout": "IPY_MODEL_d5f85a8d6c5d4256837f73ab41593711"
      }
     },
     "09ca6618d3d548cfa430c3374d617a9f": {
      "model_module": "@jupyter-widgets/base",
      "model_module_version": "1.2.0",
      "model_name": "LayoutModel",
      "state": {
       "width": "70px"
      }
     },
     "1cc7f5c1eb8c4428a2c4d5740aa1da38": {
      "model_module": "@jupyter-widgets/controls",
      "model_module_version": "1.5.0",
      "model_name": "DescriptionStyleModel",
      "state": {
       "description_width": ""
      }
     },
     "1d5d37d5cd104c7993f19fc56640fe72": {
      "model_module": "@jupyter-widgets/controls",
      "model_module_version": "1.5.0",
      "model_name": "ButtonModel",
      "state": {
       "button_style": "primary",
       "description": "Clear",
       "layout": "IPY_MODEL_d718a0490dd143308ee2342094b30ea8",
       "style": "IPY_MODEL_e318b100bb264230bacedd0493d03a16"
      }
     },
     "214e4ba377fc43fd8049e4c0e72878e2": {
      "model_module": "@jupyter-widgets/controls",
      "model_module_version": "1.5.0",
      "model_name": "HTMLModel",
      "state": {
       "layout": "IPY_MODEL_47e1e95b6be84687b13a1776f4d7257e",
       "style": "IPY_MODEL_65ff8e37b93945faa165ce5c7b778359",
       "value": "<h5>Job ID</h5>"
      }
     },
     "27bbde878bf0432a8f84b34a6d4692f2": {
      "model_module": "@jupyter-widgets/base",
      "model_module_version": "1.2.0",
      "model_name": "LayoutModel",
      "state": {
       "width": "190px"
      }
     },
     "38c07134856e4486a14db3a266ac6117": {
      "model_module": "@jupyter-widgets/base",
      "model_module_version": "1.2.0",
      "model_name": "LayoutModel",
      "state": {
       "width": "70px"
      }
     },
     "3afe6a1c03cb4b1db4a7c74014343689": {
      "model_module": "@jupyter-widgets/base",
      "model_module_version": "1.2.0",
      "model_name": "LayoutModel",
      "state": {
       "width": "95px"
      }
     },
     "405cdae3349b468a9f180e8bc4121877": {
      "model_module": "@jupyter-widgets/controls",
      "model_module_version": "1.5.0",
      "model_name": "HTMLModel",
      "state": {
       "layout": "IPY_MODEL_83fb8d811cf849efb698c2343076f584",
       "style": "IPY_MODEL_6d738eeab23340aebcace4cf6ba7c88b",
       "value": "<h5>Message</h5>"
      }
     },
     "47e1e95b6be84687b13a1776f4d7257e": {
      "model_module": "@jupyter-widgets/base",
      "model_module_version": "1.2.0",
      "model_name": "LayoutModel",
      "state": {
       "width": "190px"
      }
     },
     "65f50f39cd1d440286277e40a3e85254": {
      "model_module": "@jupyter-widgets/controls",
      "model_module_version": "1.5.0",
      "model_name": "HTMLModel",
      "state": {
       "layout": "IPY_MODEL_e3cb533177294838b0ce9edb7977db66",
       "style": "IPY_MODEL_f95c30ff544d46718f2b37f38b479ce7",
       "value": "job has successfully run"
      }
     },
     "65ff8e37b93945faa165ce5c7b778359": {
      "model_module": "@jupyter-widgets/controls",
      "model_module_version": "1.5.0",
      "model_name": "DescriptionStyleModel",
      "state": {
       "description_width": ""
      }
     },
     "6876c0b5922c4d5fb5296de5559e97f5": {
      "model_module": "@jupyter-widgets/controls",
      "model_module_version": "1.5.0",
      "model_name": "HTMLModel",
      "state": {
       "layout": "IPY_MODEL_3afe6a1c03cb4b1db4a7c74014343689",
       "style": "IPY_MODEL_b5a825361c1d4aa1afa4ca42ce6d5f21",
       "value": "<h5>Status</h5>"
      }
     },
     "6d738eeab23340aebcace4cf6ba7c88b": {
      "model_module": "@jupyter-widgets/controls",
      "model_module_version": "1.5.0",
      "model_name": "DescriptionStyleModel",
      "state": {
       "description_width": ""
      }
     },
     "6f1b1182da1e4705b87ef516439bd44d": {
      "model_module": "@jupyter-widgets/base",
      "model_module_version": "1.2.0",
      "model_name": "LayoutModel",
      "state": {
       "margin": "0px 0px 0px 37px",
       "width": "600px"
      }
     },
     "7294a423c91f446ca78c60fc2fa45891": {
      "model_module": "@jupyter-widgets/controls",
      "model_module_version": "1.5.0",
      "model_name": "DescriptionStyleModel",
      "state": {
       "description_width": ""
      }
     },
     "72d44e2ac1b54c1996f4a9c920d55d7d": {
      "model_module": "@jupyter-widgets/controls",
      "model_module_version": "1.5.0",
      "model_name": "DescriptionStyleModel",
      "state": {
       "description_width": ""
      }
     },
     "78706326258e41f69d2e65ac0aa4f1ae": {
      "model_module": "@jupyter-widgets/controls",
      "model_module_version": "1.5.0",
      "model_name": "HTMLModel",
      "state": {
       "layout": "IPY_MODEL_c356618f73f3499aab9de35b8ddbd697",
       "style": "IPY_MODEL_1cc7f5c1eb8c4428a2c4d5740aa1da38",
       "value": "ibmq_belem"
      }
     },
     "7b349ae8029e4064bcc7c3d46f88e7e6": {
      "model_module": "@jupyter-widgets/controls",
      "model_module_version": "1.5.0",
      "model_name": "DescriptionStyleModel",
      "state": {
       "description_width": ""
      }
     },
     "83fb8d811cf849efb698c2343076f584": {
      "model_module": "@jupyter-widgets/base",
      "model_module_version": "1.2.0",
      "model_name": "LayoutModel",
      "state": {}
     },
     "87de3dc60996487a84f1e1c44dc11f13": {
      "model_module": "@jupyter-widgets/controls",
      "model_module_version": "1.5.0",
      "model_name": "HTMLModel",
      "state": {
       "layout": "IPY_MODEL_e15d8927204141129532161b81b11731",
       "style": "IPY_MODEL_7294a423c91f446ca78c60fc2fa45891",
       "value": "<font style='color:#34BC6E'>DONE</font>"
      }
     },
     "955db69d022a484c99c5197c8dafc884": {
      "model_module": "@jupyter-widgets/controls",
      "model_module_version": "1.5.0",
      "model_name": "HTMLModel",
      "state": {
       "layout": "IPY_MODEL_978eaab9907e4c5fa58238991bcd84b3",
       "style": "IPY_MODEL_bc78b6b8c16b4d1e84497dcc577be11b",
       "value": "<h5>Backend</h5>"
      }
     },
     "9712373f2d3c4894a84311d8febb05d9": {
      "model_module": "@jupyter-widgets/base",
      "model_module_version": "1.2.0",
      "model_name": "LayoutModel",
      "state": {
       "margin": "0px 5px 0px 0px",
       "width": "32px"
      }
     },
     "978eaab9907e4c5fa58238991bcd84b3": {
      "model_module": "@jupyter-widgets/base",
      "model_module_version": "1.2.0",
      "model_name": "LayoutModel",
      "state": {
       "width": "145px"
      }
     },
     "9b1c0c8fd7da42ed884e7ec4e40cff93": {
      "model_module": "@jupyter-widgets/controls",
      "model_module_version": "1.5.0",
      "model_name": "HTMLModel",
      "state": {
       "layout": "IPY_MODEL_09ca6618d3d548cfa430c3374d617a9f",
       "style": "IPY_MODEL_7b349ae8029e4064bcc7c3d46f88e7e6",
       "value": "-"
      }
     },
     "b5a825361c1d4aa1afa4ca42ce6d5f21": {
      "model_module": "@jupyter-widgets/controls",
      "model_module_version": "1.5.0",
      "model_name": "DescriptionStyleModel",
      "state": {
       "description_width": ""
      }
     },
     "b71c0db911af4f12916891b1592f1b8b": {
      "model_module": "@jupyter-widgets/controls",
      "model_module_version": "1.5.0",
      "model_name": "ButtonStyleModel",
      "state": {
       "button_color": "white"
      }
     },
     "b76ac198e100473b8f4cc891a9b907c9": {
      "model_module": "@jupyter-widgets/controls",
      "model_module_version": "1.5.0",
      "model_name": "ButtonModel",
      "state": {
       "icon": "close",
       "layout": "IPY_MODEL_9712373f2d3c4894a84311d8febb05d9",
       "style": "IPY_MODEL_b71c0db911af4f12916891b1592f1b8b"
      }
     },
     "bc78b6b8c16b4d1e84497dcc577be11b": {
      "model_module": "@jupyter-widgets/controls",
      "model_module_version": "1.5.0",
      "model_name": "DescriptionStyleModel",
      "state": {
       "description_width": ""
      }
     },
     "c24435788d7e41eb8cb8cc4ac43dbea5": {
      "model_module": "@jupyter-widgets/controls",
      "model_module_version": "1.5.0",
      "model_name": "HTMLModel",
      "state": {
       "layout": "IPY_MODEL_27bbde878bf0432a8f84b34a6d4692f2",
       "style": "IPY_MODEL_d825211f4a874fddb1bd6ed85d8356d1",
       "value": "6364e937e0f73030bd9bd1c2"
      }
     },
     "c356618f73f3499aab9de35b8ddbd697": {
      "model_module": "@jupyter-widgets/base",
      "model_module_version": "1.2.0",
      "model_name": "LayoutModel",
      "state": {
       "width": "145px"
      }
     },
     "d5f85a8d6c5d4256837f73ab41593711": {
      "model_module": "@jupyter-widgets/base",
      "model_module_version": "1.2.0",
      "model_name": "LayoutModel",
      "state": {
       "grid_template_areas": "\n                                       \". . . . right \"\n                                        ",
       "grid_template_columns": "20% 20% 20% 20% 20%",
       "width": "100%"
      }
     },
     "d718a0490dd143308ee2342094b30ea8": {
      "model_module": "@jupyter-widgets/base",
      "model_module_version": "1.2.0",
      "model_name": "LayoutModel",
      "state": {
       "grid_area": "right",
       "padding": "0px 0px 0px 0px",
       "width": "70px"
      }
     },
     "d7b1ee7d82f642d694d757a1ed594fc7": {
      "model_module": "@jupyter-widgets/controls",
      "model_module_version": "1.5.0",
      "model_name": "DescriptionStyleModel",
      "state": {
       "description_width": ""
      }
     },
     "d825211f4a874fddb1bd6ed85d8356d1": {
      "model_module": "@jupyter-widgets/controls",
      "model_module_version": "1.5.0",
      "model_name": "DescriptionStyleModel",
      "state": {
       "description_width": ""
      }
     },
     "da93be528b5a4ecf849c3a50b4883d83": {
      "model_module": "@jupyter-widgets/controls",
      "model_module_version": "1.5.0",
      "model_name": "HTMLModel",
      "state": {
       "layout": "IPY_MODEL_38c07134856e4486a14db3a266ac6117",
       "style": "IPY_MODEL_72d44e2ac1b54c1996f4a9c920d55d7d",
       "value": "<h5>Queue</h5>"
      }
     },
     "ddc2befe54cd4cde86cce853803d0cac": {
      "model_module": "@jupyter-widgets/base",
      "model_module_version": "1.2.0",
      "model_name": "LayoutModel",
      "state": {
       "max_width": "700px",
       "min_width": "700px"
      }
     },
     "e15d8927204141129532161b81b11731": {
      "model_module": "@jupyter-widgets/base",
      "model_module_version": "1.2.0",
      "model_name": "LayoutModel",
      "state": {
       "width": "95px"
      }
     },
     "e318b100bb264230bacedd0493d03a16": {
      "model_module": "@jupyter-widgets/controls",
      "model_module_version": "1.5.0",
      "model_name": "ButtonStyleModel",
      "state": {}
     },
     "e3cb533177294838b0ce9edb7977db66": {
      "model_module": "@jupyter-widgets/base",
      "model_module_version": "1.2.0",
      "model_name": "LayoutModel",
      "state": {
       "overflow_x": "scroll"
      }
     },
     "ea31fa1472ff4c5cb56ba28e512e514d": {
      "model_module": "@jupyter-widgets/controls",
      "model_module_version": "1.5.0",
      "model_name": "HBoxModel",
      "state": {
       "children": [
        "IPY_MODEL_214e4ba377fc43fd8049e4c0e72878e2",
        "IPY_MODEL_955db69d022a484c99c5197c8dafc884",
        "IPY_MODEL_6876c0b5922c4d5fb5296de5559e97f5",
        "IPY_MODEL_da93be528b5a4ecf849c3a50b4883d83",
        "IPY_MODEL_405cdae3349b468a9f180e8bc4121877"
       ],
       "layout": "IPY_MODEL_6f1b1182da1e4705b87ef516439bd44d"
      }
     },
     "ec11e67248c34d44bcfd16dec5aa7815": {
      "model_module": "@jupyter-widgets/base",
      "model_module_version": "1.2.0",
      "model_name": "LayoutModel",
      "state": {
       "margin": "0px 0px 10px 0px"
      }
     },
     "f6fc4fb94e1a4475855b4c73f7e4e406": {
      "model_module": "@jupyter-widgets/controls",
      "model_module_version": "1.5.0",
      "model_name": "HBoxModel",
      "state": {
       "children": [
        "IPY_MODEL_b76ac198e100473b8f4cc891a9b907c9",
        "IPY_MODEL_c24435788d7e41eb8cb8cc4ac43dbea5",
        "IPY_MODEL_78706326258e41f69d2e65ac0aa4f1ae",
        "IPY_MODEL_87de3dc60996487a84f1e1c44dc11f13",
        "IPY_MODEL_9b1c0c8fd7da42ed884e7ec4e40cff93",
        "IPY_MODEL_65f50f39cd1d440286277e40a3e85254"
       ],
       "layout": "IPY_MODEL_ddc2befe54cd4cde86cce853803d0cac"
      }
     },
     "f95c30ff544d46718f2b37f38b479ce7": {
      "model_module": "@jupyter-widgets/controls",
      "model_module_version": "1.5.0",
      "model_name": "DescriptionStyleModel",
      "state": {
       "description_width": ""
      }
     }
    },
    "version_major": 2,
    "version_minor": 0
   }
  }
 },
 "nbformat": 4,
 "nbformat_minor": 5
}
