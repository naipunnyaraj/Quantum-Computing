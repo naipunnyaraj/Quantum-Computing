{
 "cells": [
  {
   "cell_type": "code",
   "execution_count": 42,
   "id": "91b7ff73-701b-4e4f-a4c5-60ea18f5e40a",
   "metadata": {},
   "outputs": [],
   "source": [
    "# Do the necessary imports\n",
    "import numpy as np\n",
    "import math\n",
    "from qiskit import QuantumCircuit, QuantumRegister, ClassicalRegister\n",
    "from qiskit import IBMQ, Aer, transpile, assemble\n",
    "from qiskit.visualization import plot_histogram, plot_bloch_multivector, array_to_latex\n",
    "from qiskit.extensions import Initialize\n",
    "#from qiskit.ignis.verification import marginal_counts\n",
    "from qiskit.quantum_info import random_statevector"
   ]
  },
  {
   "cell_type": "code",
   "execution_count": 43,
   "id": "91e57492-605e-46fa-8fcc-3b2cc790e4f0",
   "metadata": {},
   "outputs": [],
   "source": [
    "%matplotlib inline"
   ]
  },
  {
   "cell_type": "code",
   "execution_count": null,
   "id": "d240b80d-9c28-45b2-a004-e81c957f2439",
   "metadata": {},
   "outputs": [],
   "source": []
  },
  {
   "cell_type": "code",
   "execution_count": null,
   "id": "b16f533f-0985-407c-b57c-6aff492558c3",
   "metadata": {},
   "outputs": [],
   "source": [
    "# Create random 1-qubit state\n",
    "psi = [1/math.sqrt(2),1/math.sqrt(2)]\n",
    "\n",
    "# Display it nicely\n",
    "#display(array_to_latex(psi, prefix=\"|\\\\psi\\\\rangle =\"))\n",
    "# Show it on a Bloch sphere\n",
    "plot_bloch_multivector(psi)\n",
    "\n",
    "init_gate = Initialize(psi)\n",
    "\n",
    "qr = QuantumRegister(3)\n",
    "cr = ClassicalRegister(2)\n",
    "qc = QuantumCircuit(qr,cr)\n",
    "\n",
    "qc.append(init_gate, [0])\n",
    "qc.barrier()\n",
    "qc.h(qr[1])\n",
    "qc.cx(qr[1],qr[2])\n",
    "qc.barrier()\n",
    "qc.cx(qr[0],qr[1])\n",
    "qc.h(qr[0])\n",
    "qc.barrier()\n",
    "qc.measure([qr[0],qr[1]],[cr[0],cr[1]])\n",
    "\n",
    "if cr[1] == 1:\n",
    "    qc.x(qc[2])\n",
    "if cr[0] == 1:\n",
    "    qc.z(qc[2])\n",
    "'''\n",
    "def bob_gates(qc, qubit, crz, crx):\n",
    "    # Here we use c_if to control our gates with a classical\n",
    "    # bit instead of a qubit\n",
    "    qc.x(qubit).c_if(crx, 1) # Apply gates if the registers \n",
    "    qc.z(qubit).c_if(crz, 1)\n",
    "    \n",
    "bob_gates(qc, 2, cr[0], cr[1])\n",
    "#display(qc.draw('mpl'))\n",
    "'''\n",
    "sim = Aer.get_backend('aer_simulator')\n",
    "qc.save_statevector()\n",
    "out_vector = sim.run(qc).result().get_statevector()\n",
    "plot_bloch_multivector(out_vector)"
   ]
  },
  {
   "cell_type": "code",
   "execution_count": null,
   "id": "e7ed1a66-3c2a-45c3-9fd5-275c60ad4ad7",
   "metadata": {},
   "outputs": [],
   "source": []
  },
  {
   "cell_type": "code",
   "execution_count": null,
   "id": "74cb153b-4385-44e8-a538-6909e0531945",
   "metadata": {},
   "outputs": [],
   "source": []
  }
 ],
 "metadata": {
  "kernelspec": {
   "display_name": "Python 3 (ipykernel)",
   "language": "python",
   "name": "python3"
  },
  "language_info": {
   "codemirror_mode": {
    "name": "ipython",
    "version": 3
   },
   "file_extension": ".py",
   "mimetype": "text/x-python",
   "name": "python",
   "nbconvert_exporter": "python",
   "pygments_lexer": "ipython3",
   "version": "3.8.13"
  },
  "widgets": {
   "application/vnd.jupyter.widget-state+json": {
    "state": {
     "037b390523c9472bba23767e3d009f74": {
      "model_module": "@jupyter-widgets/base",
      "model_module_version": "1.2.0",
      "model_name": "LayoutModel",
      "state": {
       "width": "95px"
      }
     },
     "0406936ae4e64e5fa66dc91cc7bf5e88": {
      "model_module": "@jupyter-widgets/controls",
      "model_module_version": "1.5.0",
      "model_name": "ButtonModel",
      "state": {
       "button_style": "primary",
       "description": "Clear",
       "layout": "IPY_MODEL_697956f3412c4dcaa7e48c4962ffbdd6",
       "style": "IPY_MODEL_f4c46dcd88e148daab23ff607b863fc7"
      }
     },
     "202accb255e446b78aefbaa23cd68c0f": {
      "model_module": "@jupyter-widgets/controls",
      "model_module_version": "1.5.0",
      "model_name": "GridBoxModel",
      "state": {
       "children": [
        "IPY_MODEL_0406936ae4e64e5fa66dc91cc7bf5e88"
       ],
       "layout": "IPY_MODEL_df6c1e60ccb045deaee7bf5e44ff9ebb"
      }
     },
     "22397e60a5734e9f9382b4afdf6911bf": {
      "model_module": "@jupyter-widgets/base",
      "model_module_version": "1.2.0",
      "model_name": "LayoutModel",
      "state": {
       "width": "70px"
      }
     },
     "334a752c9a4942f283db0dd5b07037c3": {
      "model_module": "@jupyter-widgets/base",
      "model_module_version": "1.2.0",
      "model_name": "LayoutModel",
      "state": {
       "margin": "0px 0px 10px 0px"
      }
     },
     "4732d754643b4bac98ced4f79d03a5d0": {
      "model_module": "@jupyter-widgets/controls",
      "model_module_version": "1.5.0",
      "model_name": "DescriptionStyleModel",
      "state": {
       "description_width": ""
      }
     },
     "50a57826f1b34f55b0b34a35e32dd8aa": {
      "model_module": "@jupyter-widgets/controls",
      "model_module_version": "1.5.0",
      "model_name": "HTMLModel",
      "state": {
       "layout": "IPY_MODEL_a5695313fcd04c3b9872a883fac1ffa3",
       "style": "IPY_MODEL_aa8dba51af824e468a22b16cc46bd638",
       "value": "<h5>Backend</h5>"
      }
     },
     "561e402411cf4d9199e6f1d846c4f2eb": {
      "model_module": "@jupyter-widgets/controls",
      "model_module_version": "1.5.0",
      "model_name": "HTMLModel",
      "state": {
       "layout": "IPY_MODEL_bb0e54c6e9ee45a5806582dc3e61fc6f",
       "style": "IPY_MODEL_c01916a539004f6fad3d757b6b68d183",
       "value": "<h5>Job ID</h5>"
      }
     },
     "5712146dc4f34ffd804d32dfbfc6d09d": {
      "model_module": "@jupyter-widgets/controls",
      "model_module_version": "1.5.0",
      "model_name": "HTMLModel",
      "state": {
       "layout": "IPY_MODEL_22397e60a5734e9f9382b4afdf6911bf",
       "style": "IPY_MODEL_69b58c166f0244b3aab14941b1995a17",
       "value": "<h5>Queue</h5>"
      }
     },
     "5d9142673f8e4aa2b48d4c0e2e289b6c": {
      "model_module": "@jupyter-widgets/controls",
      "model_module_version": "1.5.0",
      "model_name": "DescriptionStyleModel",
      "state": {
       "description_width": ""
      }
     },
     "697956f3412c4dcaa7e48c4962ffbdd6": {
      "model_module": "@jupyter-widgets/base",
      "model_module_version": "1.2.0",
      "model_name": "LayoutModel",
      "state": {
       "grid_area": "right",
       "padding": "0px 0px 0px 0px",
       "width": "70px"
      }
     },
     "69b58c166f0244b3aab14941b1995a17": {
      "model_module": "@jupyter-widgets/controls",
      "model_module_version": "1.5.0",
      "model_name": "DescriptionStyleModel",
      "state": {
       "description_width": ""
      }
     },
     "787b11f44cb04045956c9dffb49d6f77": {
      "model_module": "@jupyter-widgets/controls",
      "model_module_version": "1.5.0",
      "model_name": "DescriptionStyleModel",
      "state": {
       "description_width": ""
      }
     },
     "7ee5746fbf864484852032123d3e1004": {
      "model_module": "@jupyter-widgets/base",
      "model_module_version": "1.2.0",
      "model_name": "LayoutModel",
      "state": {}
     },
     "94d3483a0c7b489b90e32fe155dcbd70": {
      "model_module": "@jupyter-widgets/base",
      "model_module_version": "1.2.0",
      "model_name": "LayoutModel",
      "state": {
       "margin": "0px 0px 0px 37px",
       "width": "600px"
      }
     },
     "a5695313fcd04c3b9872a883fac1ffa3": {
      "model_module": "@jupyter-widgets/base",
      "model_module_version": "1.2.0",
      "model_name": "LayoutModel",
      "state": {
       "width": "145px"
      }
     },
     "a9e270823ee743c5a3569d2e348be236": {
      "model_module": "@jupyter-widgets/controls",
      "model_module_version": "1.5.0",
      "model_name": "HBoxModel",
      "state": {
       "children": [
        "IPY_MODEL_561e402411cf4d9199e6f1d846c4f2eb",
        "IPY_MODEL_50a57826f1b34f55b0b34a35e32dd8aa",
        "IPY_MODEL_c0b1c155d1344c65be4932919e4aaf45",
        "IPY_MODEL_5712146dc4f34ffd804d32dfbfc6d09d",
        "IPY_MODEL_ae25592e449d40d4801067fcbf071d8c"
       ],
       "layout": "IPY_MODEL_94d3483a0c7b489b90e32fe155dcbd70"
      }
     },
     "aa8dba51af824e468a22b16cc46bd638": {
      "model_module": "@jupyter-widgets/controls",
      "model_module_version": "1.5.0",
      "model_name": "DescriptionStyleModel",
      "state": {
       "description_width": ""
      }
     },
     "ae25592e449d40d4801067fcbf071d8c": {
      "model_module": "@jupyter-widgets/controls",
      "model_module_version": "1.5.0",
      "model_name": "HTMLModel",
      "state": {
       "layout": "IPY_MODEL_7ee5746fbf864484852032123d3e1004",
       "style": "IPY_MODEL_4732d754643b4bac98ced4f79d03a5d0",
       "value": "<h5>Message</h5>"
      }
     },
     "bb0e54c6e9ee45a5806582dc3e61fc6f": {
      "model_module": "@jupyter-widgets/base",
      "model_module_version": "1.2.0",
      "model_name": "LayoutModel",
      "state": {
       "width": "190px"
      }
     },
     "c01916a539004f6fad3d757b6b68d183": {
      "model_module": "@jupyter-widgets/controls",
      "model_module_version": "1.5.0",
      "model_name": "DescriptionStyleModel",
      "state": {
       "description_width": ""
      }
     },
     "c0b1c155d1344c65be4932919e4aaf45": {
      "model_module": "@jupyter-widgets/controls",
      "model_module_version": "1.5.0",
      "model_name": "HTMLModel",
      "state": {
       "layout": "IPY_MODEL_037b390523c9472bba23767e3d009f74",
       "style": "IPY_MODEL_5d9142673f8e4aa2b48d4c0e2e289b6c",
       "value": "<h5>Status</h5>"
      }
     },
     "df6c1e60ccb045deaee7bf5e44ff9ebb": {
      "model_module": "@jupyter-widgets/base",
      "model_module_version": "1.2.0",
      "model_name": "LayoutModel",
      "state": {
       "grid_template_areas": "\n                                       \". . . . right \"\n                                        ",
       "grid_template_columns": "20% 20% 20% 20% 20%",
       "width": "100%"
      }
     },
     "f4c46dcd88e148daab23ff607b863fc7": {
      "model_module": "@jupyter-widgets/controls",
      "model_module_version": "1.5.0",
      "model_name": "ButtonStyleModel",
      "state": {}
     },
     "fc17e91e48264e7791d6f51a550add23": {
      "model_module": "@jupyter-widgets/controls",
      "model_module_version": "1.5.0",
      "model_name": "HTMLModel",
      "state": {
       "layout": "IPY_MODEL_334a752c9a4942f283db0dd5b07037c3",
       "style": "IPY_MODEL_787b11f44cb04045956c9dffb49d6f77",
       "value": "<p style='font-family: IBM Plex Sans, Arial, Helvetica, sans-serif; font-size: 20px; font-weight: medium;'>Circuit Properties</p>"
      }
     }
    },
    "version_major": 2,
    "version_minor": 0
   }
  }
 },
 "nbformat": 4,
 "nbformat_minor": 5
}
