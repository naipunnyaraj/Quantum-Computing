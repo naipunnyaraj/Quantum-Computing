{
 "cells": [
  {
   "cell_type": "code",
   "execution_count": 1,
   "id": "287111f4-cf37-4b97-952f-2869899abd9c",
   "metadata": {},
   "outputs": [
    {
     "name": "stderr",
     "output_type": "stream",
     "text": [
      "<frozen importlib._bootstrap>:219: RuntimeWarning: scipy._lib.messagestream.MessageStream size changed, may indicate binary incompatibility. Expected 56 from C header, got 64 from PyObject\n"
     ]
    }
   ],
   "source": [
    "import numpy as np\n",
    "\n",
    "# Importing standard Qiskit libraries\n",
    "from qiskit import QuantumCircuit, transpile, Aer, IBMQ\n",
    "from qiskit.tools.jupyter import *\n",
    "from qiskit.visualization import *\n",
    "from ibm_quantum_widgets import *\n",
    "from qiskit.providers.aer import QasmSimulator\n",
    "\n",
    "# Loading your IBM Quantum account(s)\n",
    "provider = IBMQ.load_account()"
   ]
  },
  {
   "cell_type": "code",
   "execution_count": 2,
   "id": "5b9a024e-55bf-4bed-bc81-0263b67aaf57",
   "metadata": {},
   "outputs": [],
   "source": [
    "# initialization\n",
    "import numpy as np\n",
    "\n",
    "# importing Qiskit\n",
    "from qiskit import IBMQ, Aer,execute\n",
    "from qiskit.providers.ibmq import least_busy\n",
    "from qiskit import QuantumCircuit, assemble, transpile\n",
    "\n",
    "# import basic plot tools\n",
    "from qiskit.visualization import plot_histogram\n",
    "import random"
   ]
  },
  {
   "cell_type": "code",
   "execution_count": 3,
   "id": "b31b88bd-7917-429a-9a1a-c5278cd0068c",
   "metadata": {},
   "outputs": [],
   "source": [
    "n = 3\n"
   ]
  },
  {
   "cell_type": "code",
   "execution_count": 4,
   "id": "c8ba6430-6b3c-4477-b8f3-635dff13a5c0",
   "metadata": {},
   "outputs": [
    {
     "data": {
      "image/png": "[encoded data removed]",
      "text/plain": [
       "<Figure size 116.697x264.88 with 1 Axes>"
      ]
     },
     "metadata": {},
     "output_type": "display_data"
    }
   ],
   "source": [
    "# Constant Oracle\n",
    "constant_oracle = QuantumCircuit(n+1)\n",
    "\n",
    "\n",
    "output = np.random.randint(2)\n",
    "if output == 1:\n",
    "    constant_oracle.x(n)\n",
    "display(constant_oracle.draw(output = 'mpl'))"
   ]
  },
  {
   "cell_type": "code",
   "execution_count": 5,
   "id": "29534d3b-89b2-4fdf-b919-ef626ff9ddfe",
   "metadata": {},
   "outputs": [
    {
     "data": {
      "image/png": "[encoded data removed]",
      "text/plain": [
       "<Figure size 507.997x264.88 with 1 Axes>"
      ]
     },
     "metadata": {},
     "output_type": "display_data"
    }
   ],
   "source": [
    "#Balanced Oracle\n",
    "balanced_oracle = QuantumCircuit(n+1)\n",
    "b_str = '101'\n",
    "for i in range(0,len(b_str)):\n",
    "    if b_str[i] == '1':\n",
    "        balanced_oracle.x(i)\n",
    "\n",
    "balanced_oracle.barrier()\n",
    "for j in range(0,n):\n",
    "    balanced_oracle.cx(j,n)\n",
    "    \n",
    "balanced_oracle.barrier()\n",
    "for i in range(0,len(b_str)):\n",
    "    if b_str[i] == '1':\n",
    "        balanced_oracle.x(i)\n",
    "\n",
    "display(balanced_oracle.draw(output = 'mpl'))"
   ]
  },
  {
   "cell_type": "code",
   "execution_count": 6,
   "id": "b7ae8acc-e507-472e-ae21-bdc82a6e07ba",
   "metadata": {},
   "outputs": [
    {
     "name": "stderr",
     "output_type": "stream",
     "text": [
      "/tmp/ipykernel_169/1211346679.py:8: DeprecationWarning: The QuantumCircuit.__iadd__() method is being deprecated. Use the compose() (potentially with the inplace=True argument) and tensor() methods which are more flexible w.r.t circuit register compatibility.\n",
      "  qc += balanced_oracle\n"
     ]
    },
    {
     "data": {
      "image/png": "[encoded data removed]",
      "text/plain": [
       "<Figure size 989.597x325.08 with 1 Axes>"
      ]
     },
     "metadata": {},
     "output_type": "display_data"
    }
   ],
   "source": [
    "qc = QuantumCircuit(n+1,n)\n",
    "\n",
    "for i in range(n):\n",
    "    qc.h(i)\n",
    "qc.x(n)\n",
    "qc.h(n)\n",
    "qc.barrier()\n",
    "qc += balanced_oracle\n",
    "qc.barrier()\n",
    "for i in range(n):\n",
    "    qc.h(i)\n",
    "for i in range(n):\n",
    "    qc.measure(i,i)  \n",
    "\n",
    "display(qc.draw(output = 'mpl'))  \n"
   ]
  },
  {
   "cell_type": "code",
   "execution_count": 1,
   "id": "c1d12df4-0796-4757-9345-15dc1b41f5ad",
   "metadata": {},
   "outputs": [
    {
     "name": "stdout",
     "output_type": "stream",
     "text": [
      "Traceback \u001b[1;36m(most recent call last)\u001b[0m:\n",
      "\u001b[1;36m  Input \u001b[1;32mIn [1]\u001b[1;36m in \u001b[1;35m<cell line: 2>\u001b[1;36m\u001b[0m\n",
      "\u001b[1;33m    aer_sim = Aer.get_backend('aer_simulator')\u001b[0m\n",
      "\u001b[1;31mNameError\u001b[0m\u001b[1;31m:\u001b[0m name 'Aer' is not defined\n",
      "\n",
      "Use %tb to get the full traceback.\n"
     ]
    },
    {
     "data": {
      "text/html": [
       "\n",
       "<style>\n",
       ".button {\n",
       "  border: none;\n",
       "  color: white;\n",
       "  padding: 4px 8px;\n",
       "  text-align: center;\n",
       "  text-decoration: none;\n",
       "  display: inline-block;\n",
       "  font-size: 12px;\n",
       "  margin: 4px 2px;\n",
       "  transition-duration: 0.2s;\n",
       "  cursor: pointer;\n",
       "}\n",
       ".iqx-button {\n",
       "  background-color: #0f62fe; \n",
       "  color: white; \n",
       "}\n",
       ".iqx-button:hover {\n",
       "  background-color: #0043ce;\n",
       "  color: white;\n",
       "}\n",
       "</style>\n",
       "<a href=\"https://stackoverflow.com/search?q=NameError: name 'Aer' is not defined\" target='_blank'><button class='button iqx-button'>Search for solution online</button></a>\n"
      ],
      "text/plain": [
       "<IPython.core.display.HTML object>"
      ]
     },
     "metadata": {},
     "output_type": "display_data"
    }
   ],
   "source": []
  },
  {
   "cell_type": "code",
   "execution_count": 11,
   "id": "1edf06c6-b466-4a1e-9e2f-f0c3edfef549",
   "metadata": {},
   "outputs": [
    {
     "name": "stdout",
     "output_type": "stream",
     "text": [
      "Job Status: job has successfully run\n"
     ]
    }
   ],
   "source": [
    "\n",
    "provider = IBMQ.get_provider(hub='ibm-q')\n",
    "from qiskit.tools.monitor import job_monitor\n",
    "qcomp = provider.get_backend('ibmq_belem')\n",
    "job = execute(qc,backend = qcomp)\n",
    "job_monitor(job)\n"
   ]
  },
  {
   "cell_type": "code",
   "execution_count": 13,
   "id": "28332b64-b1a0-485f-b32c-987396f44ce7",
   "metadata": {},
   "outputs": [
    {
     "data": {
      "image/png": "[encoded data removed]",
      "text/plain": [
       "<Figure size 504x360 with 1 Axes>"
      ]
     },
     "execution_count": 13,
     "metadata": {},
     "output_type": "execute_result"
    }
   ],
   "source": [
    "result = job.result()\n",
    "plot_histogram(result.get_counts())"
   ]
  },
  {
   "cell_type": "code",
   "execution_count": null,
   "id": "caf8151d-86ee-4b29-ba68-b00906b4a732",
   "metadata": {},
   "outputs": [],
   "source": [
    "\n",
    "plot_histogram(results.get_counts(qc))"
   ]
  }
 ],
 "metadata": {
  "kernelspec": {
   "display_name": "Python 3 (ipykernel)",
   "language": "python",
   "name": "python3"
  },
  "language_info": {
   "codemirror_mode": {
    "name": "ipython",
    "version": 3
   },
   "file_extension": ".py",
   "mimetype": "text/x-python",
   "name": "python",
   "nbconvert_exporter": "python",
   "pygments_lexer": "ipython3",
   "version": "3.8.13"
  },
  "widgets": {
   "application/vnd.jupyter.widget-state+json": {
    "state": {},
    "version_major": 2,
    "version_minor": 0
   }
  }
 },
 "nbformat": 4,
 "nbformat_minor": 5
}
